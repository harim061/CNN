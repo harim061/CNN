{
  "nbformat": 4,
  "nbformat_minor": 0,
  "metadata": {
    "colab": {
      "provenance": [],
      "gpuType": "T4",
      "authorship_tag": "ABX9TyOv7M4Hn193b2yQfufYGER0",
      "include_colab_link": true
    },
    "kernelspec": {
      "name": "python3",
      "display_name": "Python 3"
    },
    "language_info": {
      "name": "python"
    },
    "accelerator": "GPU"
  },
  "cells": [
    {
      "cell_type": "markdown",
      "metadata": {
        "id": "view-in-github",
        "colab_type": "text"
      },
      "source": [
        "<a href=\"https://colab.research.google.com/github/harim061/CNN/blob/main/CNN_Pytorch.ipynb\" target=\"_parent\"><img src=\"https://colab.research.google.com/assets/colab-badge.svg\" alt=\"Open In Colab\"/></a>"
      ]
    },
    {
      "cell_type": "markdown",
      "source": [
        "# Convolution Layers\n",
        "- Conv1d : text\n",
        "- Conv2d : image\n",
        "\n",
        "## Parameters\n",
        "Conv2d(in_channels, out_channels, kernel_size, stride=1, padding=0, dilation=1, groups=1, bias=True, padding_mode='zeros')"
      ],
      "metadata": {
        "id": "cil8LqMkIQRy"
      }
    },
    {
      "cell_type": "markdown",
      "source": [
        "## Input Tensor (N, Cin, Hin, Win)\n",
        "\n",
        "- N : batch의 크기\n",
        "- Cin : in_channels에 넣은 값\n",
        "- H : 2D Input Tensor 높이\n",
        "- W : 2D input Tensor 너비\n",
        "\n",
        "\n",
        "\n",
        "## Output Tensor (N, Cin, Hin, Win)\n",
        "\n",
        "- N : batch의 크기\n",
        "- Cin : out_channels에 넣은 값 (필터의 수)\n",
        "- H :⌊\n",
        "stride[0]\n",
        "H\n",
        "in\n",
        "​\n",
        " +2×padding[0]−dilation[0]×(kernel_size[0]−1)−1\n",
        "​\n",
        " +1⌋\n",
        "- W :⌊\n",
        "stride[1]\n",
        "W\n",
        "in\n",
        "​\n",
        " +2×padding[1]−dilation[1]×(kernel_size[1]−1)−1\n",
        "​\n",
        " +1⌋\n"
      ],
      "metadata": {
        "id": "jbefH4-KLMjk"
      }
    },
    {
      "cell_type": "code",
      "execution_count": 1,
      "metadata": {
        "id": "AEdZJrajHVoe"
      },
      "outputs": [],
      "source": [
        "import torch\n",
        "\n",
        "import torch.nn as nn\n",
        "\n",
        "import torch.optim as optim\n",
        "\n",
        "import torch.nn.init as init\n",
        "\n",
        "import matplotlib.pyplot as plt\n",
        "\n",
        "import torchvision.datasets as dset\n",
        "\n",
        "import torchvision.transforms as transforms\n",
        "\n",
        "from torch.utils.data import DataLoader\n"
      ]
    },
    {
      "cell_type": "markdown",
      "source": [
        "- batch_size : 한번에 학습하는 이미지의 수\n",
        "- MNIST는 6만장의 데이터가 존재 -> 256개씩 묶어서 진행하겠다"
      ],
      "metadata": {
        "id": "GWMbXP_OGP0N"
      }
    },
    {
      "cell_type": "code",
      "source": [
        "batch_size = 256\n",
        "learning_rate = 0.0002\n",
        "num_epoch = 10"
      ],
      "metadata": {
        "id": "nDYq16HsGHe2"
      },
      "execution_count": 2,
      "outputs": []
    },
    {
      "cell_type": "code",
      "source": [
        "#torchvision.datasets라이브러리에서 MNIST데이터를 받아오는 코드\n",
        "mnist_train = dset.MNIST(\"./\",train=True, transform = transforms.ToTensor(),target_transform=None, download = True)\n",
        "\n",
        "mnist_test = dset.MNIST(\"./\", train=False, transform = transforms.ToTensor(), target_transform=None, download = True)"
      ],
      "metadata": {
        "colab": {
          "base_uri": "https://localhost:8080/"
        },
        "id": "iLk126UkGo03",
        "outputId": "91f07e8b-0e05-4581-e4fd-b3a3a521af3d"
      },
      "execution_count": 3,
      "outputs": [
        {
          "output_type": "stream",
          "name": "stdout",
          "text": [
            "Downloading http://yann.lecun.com/exdb/mnist/train-images-idx3-ubyte.gz\n",
            "Downloading http://yann.lecun.com/exdb/mnist/train-images-idx3-ubyte.gz to ./MNIST/raw/train-images-idx3-ubyte.gz\n"
          ]
        },
        {
          "output_type": "stream",
          "name": "stderr",
          "text": [
            "100%|██████████| 9912422/9912422 [00:00<00:00, 89391868.85it/s]\n"
          ]
        },
        {
          "output_type": "stream",
          "name": "stdout",
          "text": [
            "Extracting ./MNIST/raw/train-images-idx3-ubyte.gz to ./MNIST/raw\n",
            "\n",
            "Downloading http://yann.lecun.com/exdb/mnist/train-labels-idx1-ubyte.gz\n",
            "Downloading http://yann.lecun.com/exdb/mnist/train-labels-idx1-ubyte.gz to ./MNIST/raw/train-labels-idx1-ubyte.gz\n"
          ]
        },
        {
          "output_type": "stream",
          "name": "stderr",
          "text": [
            "100%|██████████| 28881/28881 [00:00<00:00, 121500194.41it/s]\n"
          ]
        },
        {
          "output_type": "stream",
          "name": "stdout",
          "text": [
            "Extracting ./MNIST/raw/train-labels-idx1-ubyte.gz to ./MNIST/raw\n",
            "\n",
            "Downloading http://yann.lecun.com/exdb/mnist/t10k-images-idx3-ubyte.gz\n",
            "Downloading http://yann.lecun.com/exdb/mnist/t10k-images-idx3-ubyte.gz to ./MNIST/raw/t10k-images-idx3-ubyte.gz\n"
          ]
        },
        {
          "output_type": "stream",
          "name": "stderr",
          "text": [
            "100%|██████████| 1648877/1648877 [00:00<00:00, 25485005.39it/s]\n"
          ]
        },
        {
          "output_type": "stream",
          "name": "stdout",
          "text": [
            "Extracting ./MNIST/raw/t10k-images-idx3-ubyte.gz to ./MNIST/raw\n",
            "\n",
            "Downloading http://yann.lecun.com/exdb/mnist/t10k-labels-idx1-ubyte.gz\n",
            "Downloading http://yann.lecun.com/exdb/mnist/t10k-labels-idx1-ubyte.gz to ./MNIST/raw/t10k-labels-idx1-ubyte.gz\n"
          ]
        },
        {
          "output_type": "stream",
          "name": "stderr",
          "text": [
            "100%|██████████| 4542/4542 [00:00<00:00, 1307696.92it/s]"
          ]
        },
        {
          "output_type": "stream",
          "name": "stdout",
          "text": [
            "Extracting ./MNIST/raw/t10k-labels-idx1-ubyte.gz to ./MNIST/raw\n",
            "\n"
          ]
        },
        {
          "output_type": "stream",
          "name": "stderr",
          "text": [
            "\n"
          ]
        }
      ]
    },
    {
      "cell_type": "code",
      "source": [
        "# 받아온 데이터를 학습하기 위해 나누기\n",
        "# shuffle : 데이터를 무작위로 섞을 때\n",
        "# drop_last : 묶고 남은 자투리 데이터들은 버릴지 말지\n",
        "train_loader = torch.utils.data.DataLoader(mnist_train,batch_size=batch_size,shuffle=True,num_workers=2,drop_last=True)\n",
        "\n",
        "test_loader = torch.utils.data.DataLoader(mnist_test,batch_size=batch_size,shuffle=False,num_workers=2,drop_last=True)"
      ],
      "metadata": {
        "id": "dOtK0l1yGyP_"
      },
      "execution_count": 4,
      "outputs": []
    },
    {
      "cell_type": "code",
      "source": [
        "class CNN(nn.Module):\n",
        "  def __init__(self):\n",
        "    super(CNN,self).__init__() # Super class로 클래스를 초기화\n",
        "\n",
        "    self.layer = nn.Sequential( # Sequential : 여러 계층을 순차적으로 담을 수 있는 컨테이너\n",
        "        # img shape (256,28,28,1)\n",
        "        nn.Conv2d(1,16,5), # 입력 채널 :1 / 출력 채널 : 16 = 필터 수 / 필터의 크기 = 5 (5x5)\n",
        "        # img shape (256,24,24,16)\n",
        "        nn.ReLU(),\n",
        "        nn.Conv2d(16,32,5),\n",
        "        # img shape (256,20,20,32)\n",
        "        nn.ReLU(),\n",
        "        nn.MaxPool2d(2,2),\n",
        "        # img shape (256,10,10,32)\n",
        "        nn.Conv2d(32,64,5),\n",
        "        # img shape (256,6,6,64)\n",
        "        nn.ReLU(),\n",
        "        nn.MaxPool2d(2,2),\n",
        "        # img shape (256,3,3,64)\n",
        "    )\n",
        "\n",
        "    # CNN이 끝난 후 결과물 (256,3,3,64)\n",
        "    # 즉 64개의 (3x3) 특성맵 생성\n",
        "\n",
        "    # CNN의 컨볼루션 계층에서 추출된 특징들을 사용하여 분류나 회귀와 같은 최종 작업을 수행하는 데 사용\n",
        "    self.fc_layer = nn.Sequential(\n",
        "        # 65*3*3 크기의 벡터를 받아 -> 100 크기의 출력 벡터를 생성\n",
        "        nn.Linear(64*3*3,100),\n",
        "        nn.ReLU(),\n",
        "        # 이 10개의 값이 내가 넣은 이미지가 0~9(10개)중 어떤것일지에 대한 각각의 확률\n",
        "        nn.Linear(100,10)\n",
        "    )\n",
        "\n",
        "  def forward(self,x):\n",
        "    out = self.layer(x)\n",
        "    out = out.view(out.size(0) ,-1)\n",
        "    out = self.fc_layer(out)\n",
        "    return out\n"
      ],
      "metadata": {
        "id": "mbNG0ATkHF23"
      },
      "execution_count": 21,
      "outputs": []
    },
    {
      "cell_type": "code",
      "source": [
        "# GPU 사용 가능하면 'cuda:0', 아니면 'cpu'로 설정\n",
        "device = torch.device('cuda:0' if torch.cuda.is_available() else 'cpu')"
      ],
      "metadata": {
        "id": "Ic6Y3GGLRqGt"
      },
      "execution_count": 6,
      "outputs": []
    },
    {
      "cell_type": "code",
      "source": [
        "model = CNN().to(device)\n",
        "\n",
        "loss_func = nn.CrossEntropyLoss()\n",
        "\n",
        "optimizer = torch.optim.Adam(model.parameters(),lr=learning_rate)"
      ],
      "metadata": {
        "id": "l4ujvj3eNLLx"
      },
      "execution_count": 9,
      "outputs": []
    },
    {
      "cell_type": "code",
      "source": [
        "loss_arr = []\n",
        "\n",
        "for i in range(num_epoch):\n",
        "    for j,[image,label] in enumerate(train_loader):\\\n",
        "      # mnist 데이터 불러오기\n",
        "      x = image.to(device)\n",
        "\n",
        "      # 어떤 숫자인지도 불러오기\n",
        "      y = label.to(device)\n",
        "\n",
        "      # optimizer 초기화\n",
        "      optimizer.zero_grad()\n",
        "\n",
        "      # 학습용 데이터로 cnn 실시\n",
        "      output = model.forward(x)\n",
        "\n",
        "      # 학습해서 추정해낸 값과 실제 라벨된 값 비교\n",
        "      loss = loss_func(output,y)\n",
        "\n",
        "      loss.backward()\n",
        "\n",
        "      optimizer.step()\n",
        "\n",
        "      if j % 1000 == 0 :\n",
        "\n",
        "          print(loss)\n",
        "          loss_arr.append(loss.cpu().detach().numpy())"
      ],
      "metadata": {
        "colab": {
          "base_uri": "https://localhost:8080/"
        },
        "id": "gb3MFyIVOPbD",
        "outputId": "127708f0-8552-4bd3-f324-5d129bc482d0"
      },
      "execution_count": 10,
      "outputs": [
        {
          "output_type": "stream",
          "name": "stdout",
          "text": [
            "tensor(2.2979, device='cuda:0', grad_fn=<NllLossBackward0>)\n",
            "tensor(0.2223, device='cuda:0', grad_fn=<NllLossBackward0>)\n",
            "tensor(0.1709, device='cuda:0', grad_fn=<NllLossBackward0>)\n",
            "tensor(0.1483, device='cuda:0', grad_fn=<NllLossBackward0>)\n",
            "tensor(0.0525, device='cuda:0', grad_fn=<NllLossBackward0>)\n",
            "tensor(0.1189, device='cuda:0', grad_fn=<NllLossBackward0>)\n",
            "tensor(0.0987, device='cuda:0', grad_fn=<NllLossBackward0>)\n",
            "tensor(0.0329, device='cuda:0', grad_fn=<NllLossBackward0>)\n",
            "tensor(0.0404, device='cuda:0', grad_fn=<NllLossBackward0>)\n",
            "tensor(0.0454, device='cuda:0', grad_fn=<NllLossBackward0>)\n"
          ]
        }
      ]
    },
    {
      "cell_type": "code",
      "source": [
        "plt.plot(loss_arr)\n",
        "\n",
        "plt.title('Loss over epochs')\n",
        "plt.xlabel('epoch')\n",
        "plt.ylabel('loss')\n",
        "\n",
        "plt.show()"
      ],
      "metadata": {
        "colab": {
          "base_uri": "https://localhost:8080/",
          "height": 472
        },
        "id": "0S-vp76mP1B_",
        "outputId": "c6835342-2f16-4d1b-bfa2-945b4a09ebe4"
      },
      "execution_count": 12,
      "outputs": [
        {
          "output_type": "display_data",
          "data": {
            "text/plain": [
              "<Figure size 640x480 with 1 Axes>"
            ],
            "image/png": "[encoded data removed]"
          },
          "metadata": {}
        }
      ]
    },
    {
      "cell_type": "code",
      "source": [
        "correct = 0\n",
        "\n",
        "total = 0\n",
        "\n",
        "with torch.no_grad():\n",
        "\n",
        "    for image,label in test_loader :\n",
        "\n",
        "        x = image.to(device)\n",
        "\n",
        "        y = label.to(device)\n",
        "\n",
        "\n",
        "        output = model.forward(x)\n",
        "        _,output_index = torch.max(output,1)\n",
        "\n",
        "\n",
        "        total += label.size(0)\n",
        "        correct += (output_index == y).sum().float()\n",
        "\n",
        "\n",
        "    print(\"Accuracy of Test Data : {}\".format(100*correct/total))"
      ],
      "metadata": {
        "colab": {
          "base_uri": "https://localhost:8080/"
        },
        "id": "GyqNT4XIPfRn",
        "outputId": "389475b4-3bb4-415f-d101-0e977062b107"
      },
      "execution_count": 13,
      "outputs": [
        {
          "output_type": "stream",
          "name": "stdout",
          "text": [
            "Accuracy of Test Data : 98.828125\n"
          ]
        }
      ]
    },
    {
      "cell_type": "markdown",
      "source": [
        "# 모델 저장하고 불러오기"
      ],
      "metadata": {
        "id": "EJv_g9jGTEOQ"
      }
    },
    {
      "cell_type": "code",
      "source": [
        "path2model = './models/model.pt'"
      ],
      "metadata": {
        "id": "OlnZ-G45TDzk"
      },
      "execution_count": 14,
      "outputs": []
    },
    {
      "cell_type": "code",
      "source": [
        "import os\n",
        "def createFolder(directory):\n",
        "    try:\n",
        "        if not os.path.exists(directory):\n",
        "            os.makedirs(directory)\n",
        "    except OSerror:\n",
        "        print('Error')\n",
        "createFolder('./models')\n",
        "\n",
        "# store model and weights into a file\n",
        "torch.save(model, path2model)\n",
        "\n",
        "# define model : weights are randomly initiated\n",
        "_model = CNN()\n",
        "\n",
        "# load the model from the local file\n",
        "_model = torch.load(path2model)"
      ],
      "metadata": {
        "id": "RJ0hgDTlTHxy"
      },
      "execution_count": 16,
      "outputs": []
    }
  ]
}